{
  "nbformat": 4,
  "nbformat_minor": 0,
  "metadata": {
    "colab": {
      "name": "Traning.ipynb",
      "provenance": []
    },
    "kernelspec": {
      "name": "python3",
      "display_name": "Python 3"
    },
    "language_info": {
      "name": "python"
    }
  },
  "cells": [
    {
      "cell_type": "code",
      "metadata": {
        "id": "rnrr4NKXEU9h"
      },
      "source": [
        "import pandas as pd\n",
        "import numpy as np\n",
        "import tensorflow as tf\n"
      ],
      "execution_count": 1,
      "outputs": []
    },
    {
      "cell_type": "code",
      "metadata": {
        "id": "RNVtjuuXE2Sz"
      },
      "source": [
        "train_data = pd.read_csv(\"/content/drive/MyDrive/Dataset/train_data.csv\")\n",
        "test_data = pd.read_csv(\"/content/drive/MyDrive/Dataset/test_data.csv\")\n",
        "validation_data = pd.read_csv(\"/content/drive/MyDrive/Dataset/validation_data.csv\")\n"
      ],
      "execution_count": 2,
      "outputs": []
    },
    {
      "cell_type": "code",
      "metadata": {
        "colab": {
          "base_uri": "https://localhost:8080/",
          "height": 203
        },
        "id": "KQ_Eh5CvFbTP",
        "outputId": "5ad352e2-0e54-4fe0-fce8-8beee63026e5"
      },
      "source": [
        "train_data.head()"
      ],
      "execution_count": 3,
      "outputs": [
        {
          "output_type": "execute_result",
          "data": {
            "text/html": [
              "<div>\n",
              "<style scoped>\n",
              "    .dataframe tbody tr th:only-of-type {\n",
              "        vertical-align: middle;\n",
              "    }\n",
              "\n",
              "    .dataframe tbody tr th {\n",
              "        vertical-align: top;\n",
              "    }\n",
              "\n",
              "    .dataframe thead th {\n",
              "        text-align: right;\n",
              "    }\n",
              "</style>\n",
              "<table border=\"1\" class=\"dataframe\">\n",
              "  <thead>\n",
              "    <tr style=\"text-align: right;\">\n",
              "      <th></th>\n",
              "      <th>combined_text</th>\n",
              "      <th>target</th>\n",
              "    </tr>\n",
              "  </thead>\n",
              "  <tbody>\n",
              "    <tr>\n",
              "      <th>0</th>\n",
              "      <td>tle protrump rocker tednugent fires back at co...</td>\n",
              "      <td>0</td>\n",
              "    </tr>\n",
              "    <tr>\n",
              "      <th>1</th>\n",
              "      <td>tle trump speaks with palestinian leader abbas...</td>\n",
              "      <td>1</td>\n",
              "    </tr>\n",
              "    <tr>\n",
              "      <th>2</th>\n",
              "      <td>tle sanders blasts misogynist bernie bro fans ...</td>\n",
              "      <td>0</td>\n",
              "    </tr>\n",
              "    <tr>\n",
              "      <th>3</th>\n",
              "      <td>tle no joke hillary clinton tries to censor la...</td>\n",
              "      <td>0</td>\n",
              "    </tr>\n",
              "    <tr>\n",
              "      <th>4</th>\n",
              "      <td>tle as trump visits un new york prepares for s...</td>\n",
              "      <td>1</td>\n",
              "    </tr>\n",
              "  </tbody>\n",
              "</table>\n",
              "</div>"
            ],
            "text/plain": [
              "                                       combined_text  target\n",
              "0  tle protrump rocker tednugent fires back at co...       0\n",
              "1  tle trump speaks with palestinian leader abbas...       1\n",
              "2  tle sanders blasts misogynist bernie bro fans ...       0\n",
              "3  tle no joke hillary clinton tries to censor la...       0\n",
              "4  tle as trump visits un new york prepares for s...       1"
            ]
          },
          "metadata": {},
          "execution_count": 3
        }
      ]
    },
    {
      "cell_type": "code",
      "metadata": {
        "id": "HpSEPPqaFm1d"
      },
      "source": [
        "tk = tf.keras.preprocessing.text.Tokenizer(num_words=5000,oov_token=\"<oov>\")"
      ],
      "execution_count": 4,
      "outputs": []
    },
    {
      "cell_type": "code",
      "metadata": {
        "id": "fj2Pq4dqGGdH"
      },
      "source": [
        "text=list(train_data[\"combined_text\"])"
      ],
      "execution_count": 5,
      "outputs": []
    },
    {
      "cell_type": "code",
      "metadata": {
        "id": "p0hO_hbjGRyp"
      },
      "source": [
        "tk.fit_on_texts(text)"
      ],
      "execution_count": 6,
      "outputs": []
    },
    {
      "cell_type": "code",
      "metadata": {
        "id": "6rVC-2s3GXxw"
      },
      "source": [
        "import pickle\n",
        "with open(\"/content/drive/MyDrive/Dataset/tokenizer_ann.pickle\",\"wb\") as fp:\n",
        "  pickle.dump(tk,fp,protocol=pickle.HIGHEST_PROTOCOL)"
      ],
      "execution_count": 7,
      "outputs": []
    },
    {
      "cell_type": "code",
      "metadata": {
        "id": "NCR9uP9oH9vB"
      },
      "source": [
        "X_train = train_data[\"combined_text\"]\n",
        "X_test = test_data[\"combined_text\"]\n",
        "X_val = validation_data[\"combined_text\"]\n",
        "\n",
        "y_train = train_data[\"target\"]\n",
        "y_test = test_data[\"target\"]\n",
        "y_val = validation_data[\"target\"]"
      ],
      "execution_count": 8,
      "outputs": []
    },
    {
      "cell_type": "code",
      "metadata": {
        "id": "Lr4mSZsEHSyE"
      },
      "source": [
        "X_train_seq = tk.texts_to_sequences(X_train)\n",
        "X_test_seq = tk.texts_to_sequences(X_test)\n",
        "X_val_seq = tk.texts_to_sequences(X_val)\n",
        "\n",
        "X_train_seq_trunc = tf.keras.preprocessing.sequence.pad_sequences(X_train_seq, maxlen=100)\n",
        "X_test_seq_trunc = tf.keras.preprocessing.sequence.pad_sequences(X_test_seq, maxlen=100)\n",
        "X_val_seq_trunc = tf.keras.preprocessing.sequence.pad_sequences(X_val_seq, maxlen=100)"
      ],
      "execution_count": 9,
      "outputs": []
    },
    {
      "cell_type": "code",
      "metadata": {
        "id": "n4N0a38RJc_W"
      },
      "source": [
        "from tensorflow.keras import layers,models"
      ],
      "execution_count": 10,
      "outputs": []
    },
    {
      "cell_type": "code",
      "metadata": {
        "id": "3uBA47-IIxvv"
      },
      "source": [
        "emb_model = models.Sequential()\n",
        "emb_model.add(layers.Embedding(tk.num_words,8, input_length=100))\n",
        "emb_model.add(layers.Flatten())\n",
        "emb_model.add(layers.Dense(1, activation='sigmoid'))"
      ],
      "execution_count": 11,
      "outputs": []
    },
    {
      "cell_type": "code",
      "metadata": {
        "colab": {
          "base_uri": "https://localhost:8080/"
        },
        "id": "AQhkIs0SJmda",
        "outputId": "28700844-4868-4a2e-b055-b5ec2da4fcf3"
      },
      "source": [
        "emb_model.compile(optimizer='adam',loss=tf.keras.losses.BinaryCrossentropy(),metrics=[tf.keras.metrics.BinaryAccuracy()])\n",
        "emb_model.fit(x=X_train_seq_trunc,y=y_train,batch_size=256,epochs=3,validation_data=(X_val_seq_trunc,y_val))"
      ],
      "execution_count": 12,
      "outputs": [
        {
          "output_type": "stream",
          "name": "stdout",
          "text": [
            "Epoch 1/3\n",
            "159/159 [==============================] - 2s 5ms/step - loss: 0.4869 - binary_accuracy: 0.8010 - val_loss: 0.2279 - val_binary_accuracy: 0.9245\n",
            "Epoch 2/3\n",
            "159/159 [==============================] - 1s 4ms/step - loss: 0.1585 - binary_accuracy: 0.9504 - val_loss: 0.1134 - val_binary_accuracy: 0.9667\n",
            "Epoch 3/3\n",
            "159/159 [==============================] - 1s 4ms/step - loss: 0.0924 - binary_accuracy: 0.9729 - val_loss: 0.0769 - val_binary_accuracy: 0.9789\n"
          ]
        },
        {
          "output_type": "execute_result",
          "data": {
            "text/plain": [
              "<keras.callbacks.History at 0x7f22c5af2250>"
            ]
          },
          "metadata": {},
          "execution_count": 12
        }
      ]
    },
    {
      "cell_type": "code",
      "metadata": {
        "colab": {
          "base_uri": "https://localhost:8080/"
        },
        "id": "fXz4KIgOJ8qV",
        "outputId": "3d294443-c38e-4a4a-f82e-a62127bfbddc"
      },
      "source": [
        "emb_model.evaluate(X_test_seq_trunc,y_test)"
      ],
      "execution_count": 13,
      "outputs": [
        {
          "output_type": "stream",
          "name": "stdout",
          "text": [
            "71/71 [==============================] - 0s 1ms/step - loss: 0.0900 - binary_accuracy: 0.9688\n"
          ]
        },
        {
          "output_type": "execute_result",
          "data": {
            "text/plain": [
              "[0.09002187848091125, 0.9688196182250977]"
            ]
          },
          "metadata": {},
          "execution_count": 13
        }
      ]
    },
    {
      "cell_type": "code",
      "metadata": {
        "id": "vMYHfWBTKbEc"
      },
      "source": [
        "emb_model.save(\"/content/drive/MyDrive/Dataset/ann_model.hdf5\")"
      ],
      "execution_count": 14,
      "outputs": []
    }
  ]
}