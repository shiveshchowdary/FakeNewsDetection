{
  "nbformat": 4,
  "nbformat_minor": 0,
  "metadata": {
    "colab": {
      "name": "Training_cnn_lstm.ipynb",
      "provenance": []
    },
    "kernelspec": {
      "name": "python3",
      "display_name": "Python 3"
    },
    "language_info": {
      "name": "python"
    },
    "accelerator": "GPU"
  },
  "cells": [
    {
      "cell_type": "code",
      "metadata": {
        "id": "fITV2DB4RFi4"
      },
      "source": [
        "import pandas as pd\n",
        "import numpy as np\n",
        "import tensorflow as tf"
      ],
      "execution_count": 1,
      "outputs": []
    },
    {
      "cell_type": "code",
      "metadata": {
        "id": "vDD8iXEHRzYU"
      },
      "source": [
        "train_data = pd.read_csv(\"/content/drive/MyDrive/Dataset/train_data.csv\")\n",
        "test_data = pd.read_csv(\"/content/drive/MyDrive/Dataset/test_data.csv\")\n",
        "validation_data = pd.read_csv(\"/content/drive/MyDrive/Dataset/validation_data.csv\")"
      ],
      "execution_count": 2,
      "outputs": []
    },
    {
      "cell_type": "code",
      "metadata": {
        "id": "JDXmgKYkR14o"
      },
      "source": [
        "tk = tf.keras.preprocessing.text.Tokenizer(num_words=5000,oov_token=\"<oov>\")"
      ],
      "execution_count": 3,
      "outputs": []
    },
    {
      "cell_type": "code",
      "metadata": {
        "id": "3uy8QoGPR-op"
      },
      "source": [
        "text=list(train_data[\"combined_text\"])"
      ],
      "execution_count": 4,
      "outputs": []
    },
    {
      "cell_type": "code",
      "metadata": {
        "id": "LXnpJvNeSBdH"
      },
      "source": [
        "tk.fit_on_texts(text)"
      ],
      "execution_count": 5,
      "outputs": []
    },
    {
      "cell_type": "code",
      "metadata": {
        "id": "bPHZXLitSENC"
      },
      "source": [
        "import pickle\n",
        "with open(\"/content/drive/MyDrive/Dataset/tokenizer_cnn_lstm.pickle\",\"wb\") as fp:\n",
        "  pickle.dump(tk,fp,protocol=pickle.HIGHEST_PROTOCOL)"
      ],
      "execution_count": 6,
      "outputs": []
    },
    {
      "cell_type": "code",
      "metadata": {
        "id": "cfDnIfnkSJ8K"
      },
      "source": [
        "X_train = train_data[\"combined_text\"]\n",
        "X_test = test_data[\"combined_text\"]\n",
        "X_val = validation_data[\"combined_text\"]\n",
        "\n",
        "y_train = train_data[\"target\"]\n",
        "y_test = test_data[\"target\"]\n",
        "y_val = validation_data[\"target\"]"
      ],
      "execution_count": 7,
      "outputs": []
    },
    {
      "cell_type": "code",
      "metadata": {
        "id": "e4e4sVZXSMgr"
      },
      "source": [
        "X_train_seq = tk.texts_to_sequences(X_train)\n",
        "X_test_seq = tk.texts_to_sequences(X_test)\n",
        "X_val_seq = tk.texts_to_sequences(X_val)\n",
        "\n",
        "X_train_seq_trunc = tf.keras.preprocessing.sequence.pad_sequences(X_train_seq, maxlen=100)\n",
        "X_test_seq_trunc = tf.keras.preprocessing.sequence.pad_sequences(X_test_seq, maxlen=100)\n",
        "X_val_seq_trunc = tf.keras.preprocessing.sequence.pad_sequences(X_val_seq, maxlen=100)"
      ],
      "execution_count": 8,
      "outputs": []
    },
    {
      "cell_type": "code",
      "metadata": {
        "id": "of3Qtw4sST9j"
      },
      "source": [
        "from tensorflow.keras import layers,models"
      ],
      "execution_count": 9,
      "outputs": []
    },
    {
      "cell_type": "code",
      "metadata": {
        "id": "3mFuyY4VSXoA"
      },
      "source": [
        "emb_model = models.Sequential()\n",
        "emb_model.add(layers.Embedding(len(tk.index_word), 8, input_length=100))\n",
        "emb_model.add(layers.Convolution1D(16,4,activation='relu'))\n",
        "emb_model.add(layers.AveragePooling1D())\n",
        "emb_model.add(layers.Convolution1D(32,4,activation='relu'))\n",
        "emb_model.add(layers.AveragePooling1D())\n",
        "emb_model.add(layers.Flatten())\n",
        "emb_model.add(layers.Dense(1, activation='sigmoid'))"
      ],
      "execution_count": 10,
      "outputs": []
    },
    {
      "cell_type": "code",
      "metadata": {
        "colab": {
          "base_uri": "https://localhost:8080/"
        },
        "id": "emnykRqOSlBc",
        "outputId": "c8f83188-3d8e-4a64-d893-fec93c189616"
      },
      "source": [
        "emb_model.compile(optimizer='adam',loss=tf.keras.losses.BinaryCrossentropy() ,metrics=[tf.keras.metrics.BinaryAccuracy()])\n",
        "emb_model.fit(x=X_train_seq_trunc,y=y_train,batch_size=128,epochs=10,validation_data=(X_test_seq_trunc,y_test))"
      ],
      "execution_count": 11,
      "outputs": [
        {
          "output_type": "stream",
          "name": "stdout",
          "text": [
            "Epoch 1/10\n",
            "317/317 [==============================] - 33s 9ms/step - loss: 0.2817 - binary_accuracy: 0.8540 - val_loss: 0.1354 - val_binary_accuracy: 0.9532\n",
            "Epoch 2/10\n",
            "317/317 [==============================] - 2s 8ms/step - loss: 0.0998 - binary_accuracy: 0.9638 - val_loss: 0.1268 - val_binary_accuracy: 0.9568\n",
            "Epoch 3/10\n",
            "317/317 [==============================] - 2s 8ms/step - loss: 0.0737 - binary_accuracy: 0.9741 - val_loss: 0.1338 - val_binary_accuracy: 0.9572\n",
            "Epoch 4/10\n",
            "317/317 [==============================] - 2s 7ms/step - loss: 0.0593 - binary_accuracy: 0.9799 - val_loss: 0.1366 - val_binary_accuracy: 0.9537\n",
            "Epoch 5/10\n",
            "317/317 [==============================] - 2s 7ms/step - loss: 0.0490 - binary_accuracy: 0.9836 - val_loss: 0.1686 - val_binary_accuracy: 0.9532\n",
            "Epoch 6/10\n",
            "317/317 [==============================] - 2s 7ms/step - loss: 0.0404 - binary_accuracy: 0.9860 - val_loss: 0.1634 - val_binary_accuracy: 0.9586\n",
            "Epoch 7/10\n",
            "317/317 [==============================] - 2s 7ms/step - loss: 0.0317 - binary_accuracy: 0.9899 - val_loss: 0.1791 - val_binary_accuracy: 0.9581\n",
            "Epoch 8/10\n",
            "317/317 [==============================] - 2s 7ms/step - loss: 0.0265 - binary_accuracy: 0.9914 - val_loss: 0.1966 - val_binary_accuracy: 0.9595\n",
            "Epoch 9/10\n",
            "317/317 [==============================] - 2s 8ms/step - loss: 0.0187 - binary_accuracy: 0.9945 - val_loss: 0.2181 - val_binary_accuracy: 0.9612\n",
            "Epoch 10/10\n",
            "317/317 [==============================] - 2s 7ms/step - loss: 0.0110 - binary_accuracy: 0.9975 - val_loss: 0.2706 - val_binary_accuracy: 0.9577\n"
          ]
        },
        {
          "output_type": "execute_result",
          "data": {
            "text/plain": [
              "<keras.callbacks.History at 0x7fb78681b610>"
            ]
          },
          "metadata": {},
          "execution_count": 11
        }
      ]
    },
    {
      "cell_type": "code",
      "metadata": {
        "id": "ki7mulzPS1ZJ"
      },
      "source": [
        "emb_model.save(\"/content/drive/MyDrive/Dataset/cnn_model.hdf5\")"
      ],
      "execution_count": 12,
      "outputs": []
    },
    {
      "cell_type": "code",
      "metadata": {
        "id": "-FBUhbw7TwF-"
      },
      "source": [
        "emb_model = models.Sequential()\n",
        "emb_model.add(layers.Embedding(len(tk.index_word), 8, input_length=100))\n",
        "emb_model.add(layers.LSTM(128,return_sequences=True))\n",
        "emb_model.add(layers.LSTM(128,return_sequences=True))\n",
        "emb_model.add(layers.Dense(1, activation='sigmoid'))"
      ],
      "execution_count": 13,
      "outputs": []
    },
    {
      "cell_type": "code",
      "metadata": {
        "colab": {
          "base_uri": "https://localhost:8080/"
        },
        "id": "7zMUSsRWUU6C",
        "outputId": "e788faa3-5939-476c-c898-b1f29ac03dc1"
      },
      "source": [
        "emb_model.compile(optimizer='adam',loss=tf.keras.losses.BinaryCrossentropy() ,metrics=[tf.keras.metrics.BinaryAccuracy()])\n",
        "emb_model.fit(x=X_train_seq_trunc,y=y_train,batch_size=128,epochs=10,validation_data=(X_test_seq_trunc,y_test))"
      ],
      "execution_count": 14,
      "outputs": [
        {
          "output_type": "stream",
          "name": "stdout",
          "text": [
            "Epoch 1/10\n",
            "317/317 [==============================] - 21s 54ms/step - loss: 0.3350 - binary_accuracy: 0.8431 - val_loss: 0.2769 - val_binary_accuracy: 0.8747\n",
            "Epoch 2/10\n",
            "317/317 [==============================] - 16s 51ms/step - loss: 0.2462 - binary_accuracy: 0.8913 - val_loss: 0.2649 - val_binary_accuracy: 0.8818\n",
            "Epoch 3/10\n",
            "317/317 [==============================] - 16s 51ms/step - loss: 0.2304 - binary_accuracy: 0.8979 - val_loss: 0.2571 - val_binary_accuracy: 0.8830\n",
            "Epoch 4/10\n",
            "317/317 [==============================] - 16s 51ms/step - loss: 0.2248 - binary_accuracy: 0.9006 - val_loss: 0.2623 - val_binary_accuracy: 0.8835\n",
            "Epoch 5/10\n",
            "317/317 [==============================] - 16s 51ms/step - loss: 0.2193 - binary_accuracy: 0.9032 - val_loss: 0.2602 - val_binary_accuracy: 0.8839\n",
            "Epoch 6/10\n",
            "317/317 [==============================] - 16s 51ms/step - loss: 0.2133 - binary_accuracy: 0.9062 - val_loss: 0.2632 - val_binary_accuracy: 0.8831\n",
            "Epoch 7/10\n",
            "317/317 [==============================] - 16s 51ms/step - loss: 0.2105 - binary_accuracy: 0.9078 - val_loss: 0.2572 - val_binary_accuracy: 0.8848\n",
            "Epoch 8/10\n",
            "317/317 [==============================] - 16s 51ms/step - loss: 0.2042 - binary_accuracy: 0.9105 - val_loss: 0.2642 - val_binary_accuracy: 0.8867\n",
            "Epoch 9/10\n",
            "317/317 [==============================] - 16s 52ms/step - loss: 0.2001 - binary_accuracy: 0.9125 - val_loss: 0.2564 - val_binary_accuracy: 0.8867\n",
            "Epoch 10/10\n",
            "317/317 [==============================] - 16s 51ms/step - loss: 0.1962 - binary_accuracy: 0.9142 - val_loss: 0.2691 - val_binary_accuracy: 0.8849\n"
          ]
        },
        {
          "output_type": "execute_result",
          "data": {
            "text/plain": [
              "<keras.callbacks.History at 0x7fb78040cf90>"
            ]
          },
          "metadata": {},
          "execution_count": 14
        }
      ]
    },
    {
      "cell_type": "code",
      "metadata": {
        "id": "uyMOLvBMUb1v"
      },
      "source": [
        "emb_model.save(\"/content/drive/MyDrive/Dataset/lstm_model.hdf5\")"
      ],
      "execution_count": 15,
      "outputs": []
    },
    {
      "cell_type": "code",
      "metadata": {
        "id": "OQBmtOm8Vb7S"
      },
      "source": [
        ""
      ],
      "execution_count": null,
      "outputs": []
    }
  ]
}