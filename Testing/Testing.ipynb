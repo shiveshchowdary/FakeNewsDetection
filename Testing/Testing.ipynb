{
  "nbformat": 4,
  "nbformat_minor": 0,
  "metadata": {
    "colab": {
      "name": "Testing.ipynb",
      "provenance": []
    },
    "kernelspec": {
      "name": "python3",
      "display_name": "Python 3"
    },
    "language_info": {
      "name": "python"
    }
  },
  "cells": [
    {
      "cell_type": "code",
      "metadata": {
        "id": "gYdINTSESQBl"
      },
      "source": [
        "import numpy\n",
        "import pandas\n",
        "import matplotlib.pyplot as plt\n",
        "import tensorflow as tf"
      ],
      "execution_count": 1,
      "outputs": []
    },
    {
      "cell_type": "code",
      "metadata": {
        "id": "mNjSU46_T1EA"
      },
      "source": [
        "import pickle\n",
        "with open(\"/content/drive/MyDrive/Dataset/tokenizer_ann.pickle\",\"rb\") as fp:\n",
        "  ann_tokenizer = pickle.load(fp)\n",
        "\n",
        "with open(\"/content/drive/MyDrive/Dataset/tokenizer_cnn_lstm.pickle\",\"rb\") as fp:\n",
        "  cnn_tokenizer = pickle.load(fp)\n",
        "\n",
        "with open(\"/content/drive/MyDrive/Dataset/tokenizer_cnn_lstm.pickle\",\"rb\") as fp:\n",
        "  lstm_tokenizer = pickle.load(fp)"
      ],
      "execution_count": 3,
      "outputs": []
    },
    {
      "cell_type": "code",
      "metadata": {
        "id": "MP4i5Hf5V8zp"
      },
      "source": [
        "ann_model = tf.keras.models.load_model(\"/content/drive/MyDrive/Dataset/ann_model.hdf5\")\n",
        "cnn_model = tf.keras.models.load_model(\"/content/drive/MyDrive/Dataset/cnn_model.hdf5\")\n",
        "lstm_model = tf.keras.models.load_model(\"/content/drive/MyDrive/Dataset/lstm_model.hdf5\")"
      ],
      "execution_count": 6,
      "outputs": []
    },
    {
      "cell_type": "code",
      "metadata": {
        "id": "biQprdfQSwyf"
      },
      "source": [
        "models = {\n",
        "    \"ann\": {\n",
        "        \"tokenizer\":ann_tokenizer,\n",
        "        \"model\": ann_model\n",
        "    },\n",
        "    \"cnn\": {\n",
        "        \"tokenizer\":cnn_tokenizer,\n",
        "        \"model\": cnn_model\n",
        "    },\n",
        "    \"lstm\":{\n",
        "        \"tokenizer\": lstm_tokenizer,\n",
        "        \"model\": lstm_model\n",
        "    }\n",
        "} "
      ],
      "execution_count": 7,
      "outputs": []
    },
    {
      "cell_type": "code",
      "metadata": {
        "id": "KMyn8XkMW9DG"
      },
      "source": [
        "test_data = pandas.read_csv(\"/content/drive/MyDrive/Dataset/test_data.csv\")"
      ],
      "execution_count": 8,
      "outputs": []
    },
    {
      "cell_type": "code",
      "metadata": {
        "colab": {
          "base_uri": "https://localhost:8080/"
        },
        "id": "rsjFlFsfXMKL",
        "outputId": "6026c48f-4542-4062-cb2c-ba36d3fb8b1b"
      },
      "source": [
        "results ={}\n",
        "for mod in [\"ann\",\"cnn\",\"lstm\"]:\n",
        "  tk = models[mod][\"tokenizer\"]\n",
        "  model = models[mod][\"model\"]\n",
        "\n",
        "  X_test = test_data[\"combined_text\"]\n",
        "  y_test = test_data[\"target\"]\n",
        "  X_test_seq = tk.texts_to_sequences(X_test)\n",
        "  X_test_seq_trunc = tf.keras.preprocessing.sequence.pad_sequences(X_test_seq, maxlen=100)\n",
        "  r = {}\n",
        "  s = model.evaluate(X_test_seq_trunc,y_test)\n",
        "  r[\"loss\"] = s[0]\n",
        "  r[\"accuracy\"] = s[1]\n",
        "  results[mod] = r"
      ],
      "execution_count": 12,
      "outputs": [
        {
          "output_type": "stream",
          "name": "stdout",
          "text": [
            "71/71 [==============================] - 0s 1ms/step - loss: 0.0900 - binary_accuracy: 0.9688\n",
            "71/71 [==============================] - 0s 3ms/step - loss: 0.2706 - binary_accuracy: 0.9577\n",
            "71/71 [==============================] - 5s 65ms/step - loss: 0.2691 - binary_accuracy: 0.8849\n"
          ]
        }
      ]
    },
    {
      "cell_type": "code",
      "metadata": {
        "colab": {
          "base_uri": "https://localhost:8080/"
        },
        "id": "tA31tiK0Yi79",
        "outputId": "336b9c84-8426-40a2-8aea-85504916ec59"
      },
      "source": [
        "results"
      ],
      "execution_count": 13,
      "outputs": [
        {
          "output_type": "execute_result",
          "data": {
            "text/plain": [
              "{'ann': {'accuracy': 0.9688196182250977, 'loss': 0.09002187848091125},\n",
              " 'cnn': {'accuracy': 0.9576837420463562, 'loss': 0.27064090967178345},\n",
              " 'lstm': {'accuracy': 0.8849444389343262, 'loss': 0.2691372036933899}}"
            ]
          },
          "metadata": {},
          "execution_count": 13
        }
      ]
    },
    {
      "cell_type": "code",
      "metadata": {
        "id": "siT4gIz0Zma-"
      },
      "source": [
        ""
      ],
      "execution_count": null,
      "outputs": []
    }
  ]
}