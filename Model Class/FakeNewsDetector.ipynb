{
  "nbformat": 4,
  "nbformat_minor": 0,
  "metadata": {
    "colab": {
      "name": "FakeNewsDetector.ipynb",
      "provenance": []
    },
    "kernelspec": {
      "name": "python3",
      "display_name": "Python 3"
    },
    "language_info": {
      "name": "python"
    }
  },
  "cells": [
    {
      "cell_type": "code",
      "metadata": {
        "id": "_lYZ6dol5N21"
      },
      "source": [
        "import pandas as pd\n",
        "import numpy as np\n",
        "import tensorflow as tf\n",
        "import pickle\n",
        "import json"
      ],
      "execution_count": 2,
      "outputs": []
    },
    {
      "cell_type": "code",
      "metadata": {
        "id": "LgehgXQuS30Y"
      },
      "source": [
        "df1 = pd.read_csv(\"/content/drive/MyDrive/Dataset/True.csv\")"
      ],
      "execution_count": 9,
      "outputs": []
    },
    {
      "cell_type": "code",
      "metadata": {
        "id": "2YT-rCRLS8x-"
      },
      "source": [
        "sample_title = df1['title'][1]\n",
        "sample_content = df1['text'][1]"
      ],
      "execution_count": 10,
      "outputs": []
    },
    {
      "cell_type": "code",
      "metadata": {
        "id": "L3vU6EQo8-gf"
      },
      "source": [
        "class PreProcessor:\n",
        "  def __init__(self):\n",
        "    pass\n",
        "\n",
        "  def combine_text(self,title,content):\n",
        "    return \"tle \"+title+\" txt \"+content\n",
        "\n",
        "  def remove_number(self,txt):\n",
        "    result=\"\"\n",
        "    words=txt.split()\n",
        "    for word in words:\n",
        "      if word.isnumeric() == True:\n",
        "        result += \"10 \"\n",
        "      else:\n",
        "        result+=word\n",
        "        result+=\" \"\n",
        "    return result.strip()\n",
        "\n",
        "  def remove_punct(self,test_str):\n",
        "    punc = '''!()-[]{};:'\"\\,‘’<>./?@#$%^&*_~“”'''\n",
        "    for ele in test_str:\n",
        "        if ele in punc:\n",
        "            test_str = test_str.replace(ele, \"\")\n",
        "    return test_str"
      ],
      "execution_count": 1,
      "outputs": []
    },
    {
      "cell_type": "code",
      "metadata": {
        "colab": {
          "base_uri": "https://localhost:8080/"
        },
        "id": "xsOEeUZOTBDW",
        "outputId": "bf0cf424-def2-4d8d-f729-7e057f6cfcc7"
      },
      "source": [
        "from google.colab import drive\n",
        "drive.mount('/content/drive')"
      ],
      "execution_count": 8,
      "outputs": [
        {
          "output_type": "stream",
          "name": "stdout",
          "text": [
            "Mounted at /content/drive\n"
          ]
        }
      ]
    },
    {
      "cell_type": "code",
      "metadata": {
        "id": "tanHQd875yXE"
      },
      "source": [
        "tokenizer_path = \"/content/drive/MyDrive/Dataset/tokenizer_ann.pickle\"\n",
        "model_path = \"/content/drive/MyDrive/Dataset/ann_model.hdf5\"\n",
        "\n",
        "class FakeNewsDetector:\n",
        "  def __init__(self):\n",
        "    self.model = tf.keras.models.load_model(model_path)\n",
        "    with open(tokenizer_path,\"rb\") as fp:\n",
        "      self.tokenizer = pickle.load(fp)\n",
        "    self.preprocessor = PreProcessor()\n",
        "\n",
        "  def preprocess(self,title,content):\n",
        "    combined_text = self.preprocessor.combine_text(title,content)\n",
        "    combined_text = self.preprocessor.remove_number(combined_text)\n",
        "    combined_text = self.preprocessor.remove_punct(combined_text)\n",
        "    return combined_text\n",
        "\n",
        "  def predict(self,title,content):\n",
        "    text = self.preprocess(title,content)\n",
        "    seq = self.tokenizer.texts_to_sequences([text])\n",
        "    seq = tf.keras.preprocessing.sequence.pad_sequences(seq, maxlen=100)\n",
        "    result = self.model.predict(seq)\n",
        "    if result[0][0]>0.5:\n",
        "      return \"This news is True\"\n",
        "    else:\n",
        "      return \"This news is Fake\""
      ],
      "execution_count": 14,
      "outputs": []
    },
    {
      "cell_type": "code",
      "metadata": {
        "id": "tf9eq069Rxiu"
      },
      "source": [
        "fnd = FakeNewsDetector()"
      ],
      "execution_count": 15,
      "outputs": []
    },
    {
      "cell_type": "code",
      "metadata": {
        "colab": {
          "base_uri": "https://localhost:8080/",
          "height": 35
        },
        "id": "6kvOXAYjTnem",
        "outputId": "b465e45f-de10-45ff-ba5c-75957d913fce"
      },
      "source": [
        "fnd.predict(sample_title,sample_content)"
      ],
      "execution_count": 16,
      "outputs": [
        {
          "output_type": "execute_result",
          "data": {
            "application/vnd.google.colaboratory.intrinsic+json": {
              "type": "string"
            },
            "text/plain": [
              "'This news is True'"
            ]
          },
          "metadata": {},
          "execution_count": 16
        }
      ]
    },
    {
      "cell_type": "code",
      "metadata": {
        "id": "ghLRKV9aTucl"
      },
      "source": [
        ""
      ],
      "execution_count": null,
      "outputs": []
    }
  ]
}