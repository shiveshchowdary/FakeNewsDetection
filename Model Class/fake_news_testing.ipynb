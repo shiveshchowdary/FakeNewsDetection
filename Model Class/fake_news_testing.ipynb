{
  "nbformat": 4,
  "nbformat_minor": 0,
  "metadata": {
    "colab": {
      "name": "fake_news_testing.ipynb",
      "provenance": []
    },
    "kernelspec": {
      "name": "python3",
      "display_name": "Python 3"
    },
    "language_info": {
      "name": "python"
    }
  },
  "cells": [
    {
      "cell_type": "code",
      "metadata": {
        "id": "6g7qM4JwW4f0"
      },
      "source": [
        "import pandas as pd\n",
        "import numpy as np"
      ],
      "execution_count": 4,
      "outputs": []
    },
    {
      "cell_type": "code",
      "metadata": {
        "id": "0spV3FGGUzYE"
      },
      "source": [
        "from FakeNews.fake_news_detector import FakeNewsDetector,PreProcessor"
      ],
      "execution_count": 2,
      "outputs": []
    },
    {
      "cell_type": "code",
      "metadata": {
        "id": "f6IMZnJxWJq1"
      },
      "source": [
        "df1 = pd.read_csv(\"/content/drive/MyDrive/Dataset/True.csv\")"
      ],
      "execution_count": 5,
      "outputs": []
    },
    {
      "cell_type": "code",
      "metadata": {
        "id": "ppZ2ZAMwW21m"
      },
      "source": [
        "sample_title = df1['title'][1]\n",
        "sample_content = df1['text'][1]"
      ],
      "execution_count": 6,
      "outputs": []
    },
    {
      "cell_type": "code",
      "metadata": {
        "id": "p5BvhiOeXf2j"
      },
      "source": [
        "fnd = FakeNewsDetector()"
      ],
      "execution_count": 7,
      "outputs": []
    },
    {
      "cell_type": "code",
      "metadata": {
        "colab": {
          "base_uri": "https://localhost:8080/",
          "height": 35
        },
        "id": "jMTym84-Xq1b",
        "outputId": "ba2791ee-bcda-4c4a-c50c-b74b4c7ae41e"
      },
      "source": [
        "fnd.predict(sample_title,sample_content)"
      ],
      "execution_count": 8,
      "outputs": [
        {
          "output_type": "execute_result",
          "data": {
            "application/vnd.google.colaboratory.intrinsic+json": {
              "type": "string"
            },
            "text/plain": [
              "'This news is True'"
            ]
          },
          "metadata": {},
          "execution_count": 8
        }
      ]
    },
    {
      "cell_type": "code",
      "metadata": {
        "id": "ZE38Tt3qXvvz"
      },
      "source": [
        ""
      ],
      "execution_count": null,
      "outputs": []
    }
  ]
}